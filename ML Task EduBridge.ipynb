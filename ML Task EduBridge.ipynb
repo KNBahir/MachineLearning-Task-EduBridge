{
  "nbformat": 4,
  "nbformat_minor": 0,
  "metadata": {
    "colab": {
      "provenance": [],
      "collapsed_sections": []
    },
    "kernelspec": {
      "name": "python3",
      "display_name": "Python 3"
    },
    "language_info": {
      "name": "python"
    }
  },
  "cells": [
    {
      "cell_type": "code",
      "execution_count": 3,
      "metadata": {
        "id": "tUKdieCY-MyN"
      },
      "outputs": [],
      "source": [
        "import numpy as np \n",
        "import matplotlib.pyplot as plt \n",
        "import pandas as pd\n",
        "# Importing the dataset \n",
        "data = pd.read_csv('train.csv') \n",
        "\n",
        "Y = data.fetal_health\n",
        "X = data.drop('fetal_health',axis=1)\n"
      ]
    },
    {
      "cell_type": "code",
      "source": [
        "# Splitting the dataset into Training set and Test set \n",
        "from sklearn.model_selection import train_test_split \n",
        "X_train, X_test, Y_train, Y_test = train_test_split(X, Y, test_size = 0.2, random_state = 101)\n"
      ],
      "metadata": {
        "id": "2ezM_7tV-P_P"
      },
      "execution_count": 4,
      "outputs": []
    },
    {
      "cell_type": "code",
      "source": [
        "from sklearn.neighbors import KNeighborsClassifier\n",
        "model = KNeighborsClassifier(n_neighbors=7)\n",
        "model.fit(X_train, Y_train)\n",
        "KNeighborsClassifier(algorithm='auto', leaf_size=30, metric='minkowski',\n",
        "                     metric_params=None, n_jobs=None, n_neighbors=7, p=2,\n",
        "                     weights='uniform')\n"
      ],
      "metadata": {
        "id": "oJrdr7xIdbwd",
        "outputId": "5de76291-9a94-4d6c-c052-163b7579bf4f",
        "colab": {
          "base_uri": "https://localhost:8080/"
        }
      },
      "execution_count": 5,
      "outputs": [
        {
          "output_type": "execute_result",
          "data": {
            "text/plain": [
              "KNeighborsClassifier(n_neighbors=7)"
            ]
          },
          "metadata": {},
          "execution_count": 5
        }
      ]
    },
    {
      "cell_type": "code",
      "source": [
        "print('X_train', X_train.shape)\n",
        "print('y_train', Y_train.shape)\n",
        "\n",
        "print('X_test', X_test.shape)\n",
        "print('y_test', Y_test.shape)"
      ],
      "metadata": {
        "colab": {
          "base_uri": "https://localhost:8080/"
        },
        "id": "di3FcJHOFZ5n",
        "outputId": "345024e4-5b33-4847-b1ac-2f003abe96eb"
      },
      "execution_count": 6,
      "outputs": [
        {
          "output_type": "stream",
          "name": "stdout",
          "text": [
            "X_train (1360, 21)\n",
            "y_train (1360,)\n",
            "X_test (340, 21)\n",
            "y_test (340,)\n"
          ]
        }
      ]
    },
    {
      "cell_type": "code",
      "source": [
        "#Predict the response for test dataset\n",
        "y_pred =model.predict(X_test)\n",
        "\n",
        "y_pred"
      ],
      "metadata": {
        "colab": {
          "base_uri": "https://localhost:8080/"
        },
        "id": "ZA_wXSLn-RyN",
        "outputId": "6314572a-f41b-48ea-826f-acb46ead3833"
      },
      "execution_count": 7,
      "outputs": [
        {
          "output_type": "execute_result",
          "data": {
            "text/plain": [
              "array([1., 3., 2., 1., 1., 2., 2., 2., 2., 1., 1., 1., 2., 1., 1., 1., 1.,\n",
              "       1., 1., 2., 2., 1., 1., 2., 2., 1., 1., 1., 1., 1., 1., 1., 2., 1.,\n",
              "       1., 1., 1., 1., 1., 1., 1., 2., 1., 1., 1., 1., 1., 1., 2., 1., 3.,\n",
              "       1., 1., 1., 1., 1., 1., 3., 1., 1., 1., 2., 2., 2., 1., 1., 1., 1.,\n",
              "       1., 1., 1., 1., 1., 1., 1., 1., 2., 1., 2., 1., 1., 1., 2., 1., 1.,\n",
              "       1., 1., 1., 1., 1., 1., 2., 1., 1., 1., 2., 1., 1., 1., 3., 2., 1.,\n",
              "       3., 1., 1., 1., 1., 2., 1., 1., 1., 1., 1., 1., 1., 1., 1., 1., 1.,\n",
              "       2., 1., 1., 1., 1., 1., 1., 1., 2., 1., 1., 1., 2., 3., 3., 1., 1.,\n",
              "       1., 1., 1., 1., 3., 1., 1., 1., 1., 1., 2., 1., 2., 1., 2., 1., 1.,\n",
              "       1., 1., 1., 1., 1., 1., 1., 1., 1., 1., 1., 1., 1., 1., 2., 1., 1.,\n",
              "       1., 2., 1., 1., 1., 1., 1., 1., 1., 1., 1., 1., 3., 2., 1., 1., 2.,\n",
              "       1., 3., 3., 1., 1., 1., 1., 1., 1., 1., 1., 1., 1., 2., 1., 2., 1.,\n",
              "       3., 1., 3., 1., 1., 2., 2., 1., 1., 1., 2., 1., 1., 1., 3., 1., 1.,\n",
              "       1., 1., 1., 1., 1., 1., 1., 1., 1., 3., 1., 2., 1., 1., 1., 1., 3.,\n",
              "       1., 1., 1., 1., 1., 1., 1., 1., 1., 1., 1., 1., 1., 1., 1., 1., 2.,\n",
              "       1., 2., 2., 1., 1., 3., 2., 1., 1., 1., 1., 3., 3., 1., 1., 1., 1.,\n",
              "       1., 2., 1., 1., 1., 1., 1., 1., 2., 1., 1., 1., 2., 1., 1., 1., 1.,\n",
              "       1., 1., 1., 1., 1., 3., 1., 1., 1., 3., 1., 1., 1., 3., 1., 1., 1.,\n",
              "       1., 1., 1., 1., 1., 1., 1., 1., 1., 1., 1., 1., 2., 1., 1., 1., 1.,\n",
              "       1., 1., 2., 1., 1., 1., 1., 1., 2., 1., 1., 1., 1., 1., 1., 1., 1.])"
            ]
          },
          "metadata": {},
          "execution_count": 7
        }
      ]
    },
    {
      "cell_type": "code",
      "source": [
        "#Import scikit-learn metrics module for accuracy calculation\n",
        "from sklearn.metrics import accuracy_score\n",
        "# Model Accuracy, how often is the classifier correct?\n",
        "print(\"Accuracy: {:.0f}\".format(accuracy_score(Y_test, y_pred)*100))\n"
      ],
      "metadata": {
        "colab": {
          "base_uri": "https://localhost:8080/"
        },
        "id": "f0wpM074-Tx4",
        "outputId": "7286c974-440c-401b-ec11-fa86d69641c8"
      },
      "execution_count": 8,
      "outputs": [
        {
          "output_type": "stream",
          "name": "stdout",
          "text": [
            "Accuracy: 90\n"
          ]
        }
      ]
    },
    {
      "cell_type": "code",
      "source": [
        "Validation_test = pd.read_csv('test.csv') \n",
        "print('Validation_test',Validation_test.shape)"
      ],
      "metadata": {
        "colab": {
          "base_uri": "https://localhost:8080/"
        },
        "id": "gNzeIZ7aG9FJ",
        "outputId": "3ebd58e5-2791-4edc-ddc9-ec5d3f5405cd"
      },
      "execution_count": 9,
      "outputs": [
        {
          "output_type": "stream",
          "name": "stdout",
          "text": [
            "Validation_test (426, 21)\n"
          ]
        }
      ]
    },
    {
      "cell_type": "code",
      "source": [
        "val_pred =model.predict(Validation_test)\n",
        "\n",
        "val_pred\n"
      ],
      "metadata": {
        "colab": {
          "base_uri": "https://localhost:8080/"
        },
        "id": "hNfUuOmyHGCA",
        "outputId": "33d20c64-04a5-47a7-d113-53158bfc25b4"
      },
      "execution_count": 10,
      "outputs": [
        {
          "output_type": "execute_result",
          "data": {
            "text/plain": [
              "array([1., 1., 2., 1., 2., 2., 1., 1., 1., 1., 1., 1., 1., 1., 1., 1., 2.,\n",
              "       3., 1., 2., 1., 3., 2., 1., 1., 3., 1., 1., 1., 3., 2., 1., 1., 2.,\n",
              "       3., 1., 1., 1., 1., 1., 1., 2., 1., 1., 1., 1., 1., 3., 1., 1., 1.,\n",
              "       1., 1., 1., 1., 1., 1., 1., 3., 2., 1., 1., 1., 1., 1., 2., 1., 1.,\n",
              "       1., 2., 1., 1., 1., 1., 1., 1., 1., 1., 1., 2., 1., 3., 1., 1., 1.,\n",
              "       1., 1., 1., 1., 1., 3., 1., 1., 2., 1., 2., 1., 3., 1., 1., 3., 1.,\n",
              "       1., 1., 1., 1., 1., 1., 1., 1., 2., 1., 1., 1., 1., 1., 1., 1., 1.,\n",
              "       1., 1., 1., 1., 3., 1., 1., 1., 1., 1., 2., 1., 1., 2., 2., 1., 1.,\n",
              "       1., 2., 1., 1., 1., 1., 1., 1., 1., 1., 1., 1., 1., 1., 1., 3., 1.,\n",
              "       2., 1., 3., 2., 1., 1., 1., 1., 3., 1., 2., 1., 1., 1., 1., 1., 1.,\n",
              "       3., 1., 1., 1., 1., 1., 1., 1., 1., 1., 1., 1., 2., 1., 1., 1., 1.,\n",
              "       1., 1., 3., 2., 1., 2., 1., 1., 1., 2., 1., 1., 3., 1., 1., 1., 2.,\n",
              "       1., 1., 1., 1., 1., 1., 1., 1., 1., 1., 2., 1., 1., 3., 1., 1., 1.,\n",
              "       1., 2., 1., 1., 1., 1., 1., 1., 2., 1., 1., 1., 1., 1., 1., 1., 1.,\n",
              "       1., 1., 1., 1., 1., 1., 1., 1., 1., 1., 1., 1., 1., 1., 1., 1., 1.,\n",
              "       3., 1., 3., 1., 1., 1., 1., 1., 1., 1., 1., 2., 1., 1., 1., 3., 1.,\n",
              "       1., 1., 1., 1., 2., 1., 1., 1., 2., 1., 1., 1., 1., 1., 3., 1., 1.,\n",
              "       1., 1., 1., 1., 1., 1., 3., 1., 2., 1., 1., 3., 1., 1., 1., 3., 1.,\n",
              "       1., 1., 1., 1., 1., 1., 1., 1., 1., 1., 1., 1., 1., 1., 1., 1., 1.,\n",
              "       1., 1., 2., 1., 1., 1., 2., 1., 2., 1., 1., 2., 1., 1., 1., 1., 1.,\n",
              "       1., 1., 1., 2., 1., 1., 2., 1., 2., 1., 2., 1., 1., 1., 1., 1., 1.,\n",
              "       1., 3., 3., 1., 1., 1., 1., 1., 1., 1., 1., 1., 1., 1., 1., 2., 1.,\n",
              "       2., 1., 1., 1., 1., 1., 1., 1., 1., 1., 1., 1., 1., 1., 1., 1., 2.,\n",
              "       1., 1., 2., 1., 1., 1., 1., 1., 1., 1., 1., 1., 3., 1., 1., 1., 1.,\n",
              "       1., 1., 1., 1., 1., 1., 1., 1., 3., 1., 1., 1., 3., 1., 1., 1., 1.,\n",
              "       1.])"
            ]
          },
          "metadata": {},
          "execution_count": 10
        }
      ]
    },
    {
      "cell_type": "code",
      "source": [
        "output=[val_pred]\n",
        "df=pd.DataFrame(output)\n",
        "new=df.to_csv(r'output.csv',index=None,header=True)\n",
        "print(df)"
      ],
      "metadata": {
        "colab": {
          "base_uri": "https://localhost:8080/"
        },
        "id": "2b0TZlRKWEIi",
        "outputId": "486b6ef5-5d9d-4a5a-ce3d-9e21f97cbada"
      },
      "execution_count": 11,
      "outputs": [
        {
          "output_type": "stream",
          "name": "stdout",
          "text": [
            "   0    1    2    3    4    5    6    7    8    9    ...  416  417  418  419  \\\n",
            "0  1.0  1.0  2.0  1.0  2.0  2.0  1.0  1.0  1.0  1.0  ...  3.0  1.0  1.0  1.0   \n",
            "\n",
            "   420  421  422  423  424  425  \n",
            "0  3.0  1.0  1.0  1.0  1.0  1.0  \n",
            "\n",
            "[1 rows x 426 columns]\n"
          ]
        }
      ]
    }
  ]
}