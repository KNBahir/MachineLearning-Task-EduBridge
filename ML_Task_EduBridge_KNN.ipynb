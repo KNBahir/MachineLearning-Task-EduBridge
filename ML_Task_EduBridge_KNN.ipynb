{
  "nbformat": 4,
  "nbformat_minor": 0,
  "metadata": {
    "colab": {
      "provenance": [],
      "collapsed_sections": []
    },
    "kernelspec": {
      "name": "python3",
      "display_name": "Python 3"
    },
    "language_info": {
      "name": "python"
    }
  },
  "cells": [
    {
      "cell_type": "code",
      "execution_count": 1,
      "metadata": {
        "id": "tUKdieCY-MyN"
      },
      "outputs": [],
      "source": [
        "\"\"\"\n",
        "@Author:              Bahir K N\n",
        "Date Created:         21/10/2022\n",
        "Programming Language: Python\n",
        "\"\"\"\n",
        "\n",
        "import numpy as np #Importing Numpy\n",
        "import matplotlib.pyplot as plt #Importing Matplot for ploting if we needed for data visualization\n",
        "import pandas as pd #Importing Pandas\n",
        "\n",
        "# Importing the dataset \n",
        "data = pd.read_csv('train.csv') \n",
        "\n",
        "#Assigning X & Y\n",
        "Y = data.fetal_health\n",
        "X = data.drop('fetal_health',axis=1)"
      ]
    },
    {
      "cell_type": "code",
      "source": [
        "#for counting the data in the dataset\n",
        "print(\"1.0 fetal health\",len(data.loc[data[\"fetal_health\"]==1.0])) \n",
        "print(\"2.0 fetal health\",len(data.loc[data[\"fetal_health\"]==2.0]))\n",
        "print(\"3.0 fetal health\",len(data.loc[data[\"fetal_health\"]==3.0]))"
      ],
      "metadata": {
        "colab": {
          "base_uri": "https://localhost:8080/"
        },
        "id": "n-lti_CFIapv",
        "outputId": "eb0409e4-ace0-4a9d-fbba-5e57cd0dfaba"
      },
      "execution_count": 2,
      "outputs": [
        {
          "output_type": "stream",
          "name": "stdout",
          "text": [
            "1.0 fetal health 1323\n",
            "2.0 fetal health 236\n",
            "3.0 fetal health 141\n"
          ]
        }
      ]
    },
    {
      "cell_type": "code",
      "source": [
        "# Splitting the dataset into Training set and Test set \n",
        "from sklearn.model_selection import train_test_split \n",
        "X_train, X_test, Y_train, Y_test = train_test_split(X, Y, test_size = 0.2, random_state = 101)\n"
      ],
      "metadata": {
        "id": "2ezM_7tV-P_P"
      },
      "execution_count": 3,
      "outputs": []
    },
    {
      "cell_type": "code",
      "source": [
        "#Importing KNN Classifier\n",
        "from sklearn.neighbors import KNeighborsClassifier\n",
        "model = KNeighborsClassifier(n_neighbors=7)\n",
        "model.fit(X_train, Y_train)\n",
        "KNeighborsClassifier(algorithm='auto', leaf_size=30, metric='minkowski',\n",
        "                     metric_params=None, n_jobs=None, n_neighbors=7, p=2,\n",
        "                     weights='uniform')\n"
      ],
      "metadata": {
        "id": "oJrdr7xIdbwd",
        "colab": {
          "base_uri": "https://localhost:8080/"
        },
        "outputId": "0183ebe3-8c9e-42fa-fddd-a8790a42996a"
      },
      "execution_count": 4,
      "outputs": [
        {
          "output_type": "execute_result",
          "data": {
            "text/plain": [
              "KNeighborsClassifier(n_neighbors=7)"
            ]
          },
          "metadata": {},
          "execution_count": 4
        }
      ]
    },
    {
      "cell_type": "code",
      "source": [
        "#Shape of the Train and Test Data\n",
        "print('X_train', X_train.shape)\n",
        "print('y_train', Y_train.shape)\n",
        "\n",
        "print('X_test', X_test.shape)\n",
        "print('y_test', Y_test.shape)"
      ],
      "metadata": {
        "colab": {
          "base_uri": "https://localhost:8080/"
        },
        "id": "di3FcJHOFZ5n",
        "outputId": "48e48c5d-d752-4d66-8590-fd19dee2001e"
      },
      "execution_count": 5,
      "outputs": [
        {
          "output_type": "stream",
          "name": "stdout",
          "text": [
            "X_train (1360, 21)\n",
            "y_train (1360,)\n",
            "X_test (340, 21)\n",
            "y_test (340,)\n"
          ]
        }
      ]
    },
    {
      "cell_type": "code",
      "source": [
        "#Predict the response for test dataset\n",
        "y_pred =model.predict(X_test)\n",
        "\n",
        "y_pred"
      ],
      "metadata": {
        "colab": {
          "base_uri": "https://localhost:8080/"
        },
        "id": "ZA_wXSLn-RyN",
        "outputId": "c1d301ae-4bc3-49a6-ab90-863d6b0f7e20"
      },
      "execution_count": 6,
      "outputs": [
        {
          "output_type": "execute_result",
          "data": {
            "text/plain": [
              "array([1., 3., 2., 1., 1., 2., 2., 2., 2., 1., 1., 1., 2., 1., 1., 1., 1.,\n",
              "       1., 1., 2., 2., 1., 1., 2., 2., 1., 1., 1., 1., 1., 1., 1., 2., 1.,\n",
              "       1., 1., 1., 1., 1., 1., 1., 2., 1., 1., 1., 1., 1., 1., 2., 1., 3.,\n",
              "       1., 1., 1., 1., 1., 1., 3., 1., 1., 1., 2., 2., 2., 1., 1., 1., 1.,\n",
              "       1., 1., 1., 1., 1., 1., 1., 1., 2., 1., 2., 1., 1., 1., 2., 1., 1.,\n",
              "       1., 1., 1., 1., 1., 1., 2., 1., 1., 1., 2., 1., 1., 1., 3., 2., 1.,\n",
              "       3., 1., 1., 1., 1., 2., 1., 1., 1., 1., 1., 1., 1., 1., 1., 1., 1.,\n",
              "       2., 1., 1., 1., 1., 1., 1., 1., 2., 1., 1., 1., 2., 3., 3., 1., 1.,\n",
              "       1., 1., 1., 1., 3., 1., 1., 1., 1., 1., 2., 1., 2., 1., 2., 1., 1.,\n",
              "       1., 1., 1., 1., 1., 1., 1., 1., 1., 1., 1., 1., 1., 1., 2., 1., 1.,\n",
              "       1., 2., 1., 1., 1., 1., 1., 1., 1., 1., 1., 1., 3., 2., 1., 1., 2.,\n",
              "       1., 3., 3., 1., 1., 1., 1., 1., 1., 1., 1., 1., 1., 2., 1., 2., 1.,\n",
              "       3., 1., 3., 1., 1., 2., 2., 1., 1., 1., 2., 1., 1., 1., 3., 1., 1.,\n",
              "       1., 1., 1., 1., 1., 1., 1., 1., 1., 3., 1., 2., 1., 1., 1., 1., 3.,\n",
              "       1., 1., 1., 1., 1., 1., 1., 1., 1., 1., 1., 1., 1., 1., 1., 1., 2.,\n",
              "       1., 2., 2., 1., 1., 3., 2., 1., 1., 1., 1., 3., 3., 1., 1., 1., 1.,\n",
              "       1., 2., 1., 1., 1., 1., 1., 1., 2., 1., 1., 1., 2., 1., 1., 1., 1.,\n",
              "       1., 1., 1., 1., 1., 3., 1., 1., 1., 3., 1., 1., 1., 3., 1., 1., 1.,\n",
              "       1., 1., 1., 1., 1., 1., 1., 1., 1., 1., 1., 1., 2., 1., 1., 1., 1.,\n",
              "       1., 1., 2., 1., 1., 1., 1., 1., 2., 1., 1., 1., 1., 1., 1., 1., 1.])"
            ]
          },
          "metadata": {},
          "execution_count": 6
        }
      ]
    },
    {
      "cell_type": "code",
      "source": [
        "#Import scikit-learn metrics module for accuracy calculation\n",
        "from sklearn.metrics import accuracy_score\n",
        "# Model Accuracy, how often is the classifier correct?\n",
        "print(\"Accuracy: {:.0f}\".format(accuracy_score(Y_test, y_pred)*100))\n"
      ],
      "metadata": {
        "colab": {
          "base_uri": "https://localhost:8080/"
        },
        "id": "f0wpM074-Tx4",
        "outputId": "f4ffb383-1846-4fe9-97d6-e09f42ea1668"
      },
      "execution_count": 7,
      "outputs": [
        {
          "output_type": "stream",
          "name": "stdout",
          "text": [
            "Accuracy: 90\n"
          ]
        }
      ]
    },
    {
      "cell_type": "code",
      "source": [
        "#Validation Test\n",
        "Validation_test = pd.read_csv('test.csv') \n",
        "print('Validation_test',Validation_test.shape)"
      ],
      "metadata": {
        "colab": {
          "base_uri": "https://localhost:8080/"
        },
        "id": "gNzeIZ7aG9FJ",
        "outputId": "4827d36d-0d8a-497f-829b-9e5419269120"
      },
      "execution_count": 8,
      "outputs": [
        {
          "output_type": "stream",
          "name": "stdout",
          "text": [
            "Validation_test (426, 21)\n"
          ]
        }
      ]
    },
    {
      "cell_type": "code",
      "source": [
        "val_pred =model.predict(Validation_test)\n",
        "\n",
        "val_pred\n"
      ],
      "metadata": {
        "colab": {
          "base_uri": "https://localhost:8080/"
        },
        "id": "hNfUuOmyHGCA",
        "outputId": "4a353c4f-079a-44de-83ae-d6e9cfde89c0"
      },
      "execution_count": 9,
      "outputs": [
        {
          "output_type": "execute_result",
          "data": {
            "text/plain": [
              "array([1., 1., 2., 1., 2., 2., 1., 1., 1., 1., 1., 1., 1., 1., 1., 1., 2.,\n",
              "       3., 1., 2., 1., 3., 2., 1., 1., 3., 1., 1., 1., 3., 2., 1., 1., 2.,\n",
              "       3., 1., 1., 1., 1., 1., 1., 2., 1., 1., 1., 1., 1., 3., 1., 1., 1.,\n",
              "       1., 1., 1., 1., 1., 1., 1., 3., 2., 1., 1., 1., 1., 1., 2., 1., 1.,\n",
              "       1., 2., 1., 1., 1., 1., 1., 1., 1., 1., 1., 2., 1., 3., 1., 1., 1.,\n",
              "       1., 1., 1., 1., 1., 3., 1., 1., 2., 1., 2., 1., 3., 1., 1., 3., 1.,\n",
              "       1., 1., 1., 1., 1., 1., 1., 1., 2., 1., 1., 1., 1., 1., 1., 1., 1.,\n",
              "       1., 1., 1., 1., 3., 1., 1., 1., 1., 1., 2., 1., 1., 2., 2., 1., 1.,\n",
              "       1., 2., 1., 1., 1., 1., 1., 1., 1., 1., 1., 1., 1., 1., 1., 3., 1.,\n",
              "       2., 1., 3., 2., 1., 1., 1., 1., 3., 1., 2., 1., 1., 1., 1., 1., 1.,\n",
              "       3., 1., 1., 1., 1., 1., 1., 1., 1., 1., 1., 1., 2., 1., 1., 1., 1.,\n",
              "       1., 1., 3., 2., 1., 2., 1., 1., 1., 2., 1., 1., 3., 1., 1., 1., 2.,\n",
              "       1., 1., 1., 1., 1., 1., 1., 1., 1., 1., 2., 1., 1., 3., 1., 1., 1.,\n",
              "       1., 2., 1., 1., 1., 1., 1., 1., 2., 1., 1., 1., 1., 1., 1., 1., 1.,\n",
              "       1., 1., 1., 1., 1., 1., 1., 1., 1., 1., 1., 1., 1., 1., 1., 1., 1.,\n",
              "       3., 1., 3., 1., 1., 1., 1., 1., 1., 1., 1., 2., 1., 1., 1., 3., 1.,\n",
              "       1., 1., 1., 1., 2., 1., 1., 1., 2., 1., 1., 1., 1., 1., 3., 1., 1.,\n",
              "       1., 1., 1., 1., 1., 1., 3., 1., 2., 1., 1., 3., 1., 1., 1., 3., 1.,\n",
              "       1., 1., 1., 1., 1., 1., 1., 1., 1., 1., 1., 1., 1., 1., 1., 1., 1.,\n",
              "       1., 1., 2., 1., 1., 1., 2., 1., 2., 1., 1., 2., 1., 1., 1., 1., 1.,\n",
              "       1., 1., 1., 2., 1., 1., 2., 1., 2., 1., 2., 1., 1., 1., 1., 1., 1.,\n",
              "       1., 3., 3., 1., 1., 1., 1., 1., 1., 1., 1., 1., 1., 1., 1., 2., 1.,\n",
              "       2., 1., 1., 1., 1., 1., 1., 1., 1., 1., 1., 1., 1., 1., 1., 1., 2.,\n",
              "       1., 1., 2., 1., 1., 1., 1., 1., 1., 1., 1., 1., 3., 1., 1., 1., 1.,\n",
              "       1., 1., 1., 1., 1., 1., 1., 1., 3., 1., 1., 1., 3., 1., 1., 1., 1.,\n",
              "       1.])"
            ]
          },
          "metadata": {},
          "execution_count": 9
        }
      ]
    },
    {
      "cell_type": "code",
      "source": [
        "#Create a CSV file with the header as “fetal_health”.\n",
        "output=[val_pred]\n",
        "df=pd.DataFrame(output)\n",
        "new=df.to_csv(r'output.csv',index=None,header=True)\n",
        "df.rename_axis('fetal_health') \n",
        "print(df)"
      ],
      "metadata": {
        "colab": {
          "base_uri": "https://localhost:8080/"
        },
        "id": "2b0TZlRKWEIi",
        "outputId": "513e0ed2-22d8-4099-cc2c-7b35169a633e"
      },
      "execution_count": 10,
      "outputs": [
        {
          "output_type": "stream",
          "name": "stdout",
          "text": [
            "   0    1    2    3    4    5    6    7    8    9    ...  416  417  418  419  \\\n",
            "0  1.0  1.0  2.0  1.0  2.0  2.0  1.0  1.0  1.0  1.0  ...  3.0  1.0  1.0  1.0   \n",
            "\n",
            "   420  421  422  423  424  425  \n",
            "0  3.0  1.0  1.0  1.0  1.0  1.0  \n",
            "\n",
            "[1 rows x 426 columns]\n"
          ]
        }
      ]
    }
  ]
}